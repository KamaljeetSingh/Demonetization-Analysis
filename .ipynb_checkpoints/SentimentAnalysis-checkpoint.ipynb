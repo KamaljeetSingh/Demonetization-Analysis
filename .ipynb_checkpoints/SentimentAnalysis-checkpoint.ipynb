{
 "cells": [
  {
   "cell_type": "markdown",
   "metadata": {},
   "source": [
    "# Testing Our Classifier"
   ]
  },
  {
   "cell_type": "code",
   "execution_count": 1,
   "metadata": {
    "collapsed": false
   },
   "outputs": [
    {
     "name": "stdout",
     "output_type": "stream",
     "text": [
      "neg\n",
      "pos\n",
      "neg\n",
      "neg\n",
      "pos\n",
      "neg\n",
      "neg\n"
     ]
    }
   ],
   "source": [
    "import sentiment_mod as s\n",
    "\n",
    "print(s.sentiment(\"Rs lakh looted from a bank in Kishtwar in J amp K  Third such incident since  demonetization  That s how terrorists have\"))\n",
    "print(s.sentiment(\"Amazing how videos showing ppl happy with  demonetization end up as mobile forwards  unhappy videos land on  sardesairajdeep tl  prestitutes\"))\n",
    "print(s.sentiment(\"Crore wedding of Janardhan Reddy  amp     Million views of  Kriti are the only two not affected by  demonetization\"))\n",
    "print(s.sentiment(\"PM is in dream land of cashless economy   ATMs in big IT companies are also not spared from long serpentine queues for cash  demonetization\"))\n",
    "print(s.sentiment(\"For many, demonetisation is a step towards equality\"))\n",
    "print(s.sentiment(\"Demonetisation: DMK calls for protest in Tamil Nadu on Nov 24\"))\n",
    "print(s.sentiment(\"People in northeastern states welcome PM Modi's move against black money.\"))\n"
   ]
  },
  {
   "cell_type": "markdown",
   "metadata": {},
   "source": [
    "# Sentiment Analysis (8 Nov 2016 - 30 Jan 2017)"
   ]
  },
  {
   "cell_type": "code",
   "execution_count": 20,
   "metadata": {
    "collapsed": false
   },
   "outputs": [
    {
     "data": {
      "text/html": [
       "<div>\n",
       "<table border=\"1\" class=\"dataframe\">\n",
       "  <thead>\n",
       "    <tr style=\"text-align: right;\">\n",
       "      <th></th>\n",
       "      <th>Positive</th>\n",
       "      <th>Negative</th>\n",
       "    </tr>\n",
       "  </thead>\n",
       "  <tbody>\n",
       "    <tr>\n",
       "      <th>nov8-20</th>\n",
       "      <td>20.8242</td>\n",
       "      <td>79.1758</td>\n",
       "    </tr>\n",
       "    <tr>\n",
       "      <th>nov20-30</th>\n",
       "      <td>18.4528</td>\n",
       "      <td>81.5472</td>\n",
       "    </tr>\n",
       "    <tr>\n",
       "      <th>dec1-10</th>\n",
       "      <td>16.5406</td>\n",
       "      <td>83.4594</td>\n",
       "    </tr>\n",
       "    <tr>\n",
       "      <th>dec10-20</th>\n",
       "      <td>15.3425</td>\n",
       "      <td>84.6575</td>\n",
       "    </tr>\n",
       "    <tr>\n",
       "      <th>dec20-30</th>\n",
       "      <td>14.6222</td>\n",
       "      <td>85.3778</td>\n",
       "    </tr>\n",
       "    <tr>\n",
       "      <th>jan1-10</th>\n",
       "      <td>13.863</td>\n",
       "      <td>86.137</td>\n",
       "    </tr>\n",
       "    <tr>\n",
       "      <th>jan10-20</th>\n",
       "      <td>13.9483</td>\n",
       "      <td>86.0517</td>\n",
       "    </tr>\n",
       "    <tr>\n",
       "      <th>jan20-30</th>\n",
       "      <td>14.1149</td>\n",
       "      <td>85.8851</td>\n",
       "    </tr>\n",
       "  </tbody>\n",
       "</table>\n",
       "</div>"
      ],
      "text/plain": [
       "         Positive Negative\n",
       "nov8-20   20.8242  79.1758\n",
       "nov20-30  18.4528  81.5472\n",
       "dec1-10   16.5406  83.4594\n",
       "dec10-20  15.3425  84.6575\n",
       "dec20-30  14.6222  85.3778\n",
       "jan1-10    13.863   86.137\n",
       "jan10-20  13.9483  86.0517\n",
       "jan20-30  14.1149  85.8851"
      ]
     },
     "execution_count": 20,
     "metadata": {},
     "output_type": "execute_result"
    }
   ],
   "source": [
    "# import pandas as pd\n",
    "# dates = ['nov8-20','nov20-30','dec1-10','dec10-20','dec20-30','jan1-10','jan10-20','jan20-30']\n",
    "# # dates=['jan10-20']\n",
    "# df = pd.DataFrame(index=dates,columns=['Positive','Negative'])\n",
    "# count_pos = 0\n",
    "# count_neg = 0\n",
    "# for d in dates:\n",
    "#     f_name=\"twitter data files/demo_\"+d+\".txt\"\n",
    "#     f=open(f_name,\"r\",encoding=\"utf-8\")\n",
    "#     text=f.read()\n",
    "#     for x in text.split('\\n'):\n",
    "#         if(s.sentiment(x)=='pos'):\n",
    "#             count_pos += 1 \n",
    "#         elif(s.sentiment(x)=='neg'):\n",
    "#             count_neg += 1\n",
    "#     df.loc[d,'Positive'] = (count_pos/(count_pos+count_neg))*100\n",
    "#     df.loc[d,'Negative'] = (count_neg/(count_pos+count_neg))*100\n",
    "#     f.close()\n",
    "# df.head(8)\n",
    "\n"
   ]
  },
  {
   "cell_type": "code",
   "execution_count": 21,
   "metadata": {
    "collapsed": false
   },
   "outputs": [
    {
     "data": {
      "text/plain": [
       "<matplotlib.axes._subplots.AxesSubplot at 0x1716f33af60>"
      ]
     },
     "execution_count": 21,
     "metadata": {},
     "output_type": "execute_result"
    },
    {
     "data": {
      "image/png": "[encoded data removed]",
      "text/plain": [
       "<matplotlib.figure.Figure at 0x1716f2ae358>"
      ]
     },
     "metadata": {},
     "output_type": "display_data"
    }
   ],
   "source": [
    "%matplotlib inline\n",
    "import matplotlib.pyplot as plt\n",
    "import matplotlib\n",
    "matplotlib.style.use('ggplot')\n",
    "\n",
    "df.plot(kind=\"bar\")"
   ]
  },
  {
   "cell_type": "code",
   "execution_count": null,
   "metadata": {
    "collapsed": true
   },
   "outputs": [],
   "source": []
  }
 ],
 "metadata": {
  "kernelspec": {
   "display_name": "Python 3",
   "language": "python",
   "name": "python3"
  },
  "language_info": {
   "codemirror_mode": {
    "name": "ipython",
    "version": 3
   },
   "file_extension": ".py",
   "mimetype": "text/x-python",
   "name": "python",
   "nbconvert_exporter": "python",
   "pygments_lexer": "ipython3",
   "version": "3.6.0"
  }
 },
 "nbformat": 4,
 "nbformat_minor": 2
}
