{
 "cells": [
  {
   "cell_type": "markdown",
   "metadata": {},
   "source": [
    "# Loading File (23-Nov-2016)"
   ]
  },
  {
   "cell_type": "code",
   "execution_count": 1,
   "metadata": {
    "collapsed": false
   },
   "outputs": [
    {
     "data": {
      "text/html": [
       "<div>\n",
       "<table border=\"1\" class=\"dataframe\">\n",
       "  <thead>\n",
       "    <tr style=\"text-align: right;\">\n",
       "      <th></th>\n",
       "      <th>Unnamed: 0</th>\n",
       "      <th>text</th>\n",
       "      <th>favorited</th>\n",
       "      <th>favoriteCount</th>\n",
       "      <th>replyToSN</th>\n",
       "      <th>created</th>\n",
       "      <th>truncated</th>\n",
       "      <th>replyToSID</th>\n",
       "      <th>id</th>\n",
       "      <th>replyToUID</th>\n",
       "      <th>statusSource</th>\n",
       "      <th>screenName</th>\n",
       "      <th>retweetCount</th>\n",
       "      <th>isRetweet</th>\n",
       "      <th>retweeted</th>\n",
       "    </tr>\n",
       "  </thead>\n",
       "  <tbody>\n",
       "    <tr>\n",
       "      <th>0</th>\n",
       "      <td>1</td>\n",
       "      <td>RT @rssurjewala: Critical question: Was PayTM ...</td>\n",
       "      <td>False</td>\n",
       "      <td>0</td>\n",
       "      <td>NaN</td>\n",
       "      <td>23-11-2016 18:40</td>\n",
       "      <td>False</td>\n",
       "      <td>NaN</td>\n",
       "      <td>8.014960e+17</td>\n",
       "      <td>NaN</td>\n",
       "      <td>&lt;a href=\"http://twitter.com/download/android\" ...</td>\n",
       "      <td>HASHTAGFARZIWAL</td>\n",
       "      <td>331</td>\n",
       "      <td>True</td>\n",
       "      <td>False</td>\n",
       "    </tr>\n",
       "    <tr>\n",
       "      <th>1</th>\n",
       "      <td>2</td>\n",
       "      <td>RT @Hemant_80: Did you vote on #Demonetization...</td>\n",
       "      <td>False</td>\n",
       "      <td>0</td>\n",
       "      <td>NaN</td>\n",
       "      <td>23-11-2016 18:40</td>\n",
       "      <td>False</td>\n",
       "      <td>NaN</td>\n",
       "      <td>8.014960e+17</td>\n",
       "      <td>NaN</td>\n",
       "      <td>&lt;a href=\"http://twitter.com/download/android\" ...</td>\n",
       "      <td>PRAMODKAUSHIK9</td>\n",
       "      <td>66</td>\n",
       "      <td>True</td>\n",
       "      <td>False</td>\n",
       "    </tr>\n",
       "    <tr>\n",
       "      <th>2</th>\n",
       "      <td>3</td>\n",
       "      <td>RT @roshankar: Former FinSec, RBI Dy Governor,...</td>\n",
       "      <td>False</td>\n",
       "      <td>0</td>\n",
       "      <td>NaN</td>\n",
       "      <td>23-11-2016 18:40</td>\n",
       "      <td>False</td>\n",
       "      <td>NaN</td>\n",
       "      <td>8.014960e+17</td>\n",
       "      <td>NaN</td>\n",
       "      <td>&lt;a href=\"http://twitter.com/download/android\" ...</td>\n",
       "      <td>rahulja13034944</td>\n",
       "      <td>12</td>\n",
       "      <td>True</td>\n",
       "      <td>False</td>\n",
       "    </tr>\n",
       "  </tbody>\n",
       "</table>\n",
       "</div>"
      ],
      "text/plain": [
       "   Unnamed: 0                                               text favorited  \\\n",
       "0           1  RT @rssurjewala: Critical question: Was PayTM ...     False   \n",
       "1           2  RT @Hemant_80: Did you vote on #Demonetization...     False   \n",
       "2           3  RT @roshankar: Former FinSec, RBI Dy Governor,...     False   \n",
       "\n",
       "   favoriteCount replyToSN           created truncated  replyToSID  \\\n",
       "0              0       NaN  23-11-2016 18:40     False         NaN   \n",
       "1              0       NaN  23-11-2016 18:40     False         NaN   \n",
       "2              0       NaN  23-11-2016 18:40     False         NaN   \n",
       "\n",
       "             id  replyToUID  \\\n",
       "0  8.014960e+17         NaN   \n",
       "1  8.014960e+17         NaN   \n",
       "2  8.014960e+17         NaN   \n",
       "\n",
       "                                        statusSource       screenName  \\\n",
       "0  <a href=\"http://twitter.com/download/android\" ...  HASHTAGFARZIWAL   \n",
       "1  <a href=\"http://twitter.com/download/android\" ...   PRAMODKAUSHIK9   \n",
       "2  <a href=\"http://twitter.com/download/android\" ...  rahulja13034944   \n",
       "\n",
       "   retweetCount isRetweet retweeted  \n",
       "0           331      True     False  \n",
       "1            66      True     False  \n",
       "2            12      True     False  "
      ]
     },
     "execution_count": 1,
     "metadata": {},
     "output_type": "execute_result"
    }
   ],
   "source": [
    "import numpy as np # linear algebra\n",
    "import pandas as pd # data processing, CSV file I/O (e.g. pd.read_csv)\n",
    "%matplotlib inline\n",
    "#from wordcloud import WordCloud, STOPWORDS\n",
    "import matplotlib.pyplot as plt\n",
    "import re\n",
    "import seaborn as sns\n",
    "pd.options.mode.chained_assignment = None\n",
    "import matplotlib\n",
    "matplotlib.style.use('ggplot')\n",
    "\n",
    "#Getting data\n",
    "tweets = pd.read_csv('C:/Users/mohinder/Data Analysis and M.Learning/demonetization-tweets.csv', encoding = \"ISO-8859-1\")\n",
    "tweets.head(3)"
   ]
  },
  {
   "cell_type": "markdown",
   "metadata": {},
   "source": [
    "# Filtering Text"
   ]
  },
  {
   "cell_type": "code",
   "execution_count": 3,
   "metadata": {
    "collapsed": false
   },
   "outputs": [
    {
     "data": {
      "text/html": [
       "<div>\n",
       "<table border=\"1\" class=\"dataframe\">\n",
       "  <thead>\n",
       "    <tr style=\"text-align: right;\">\n",
       "      <th></th>\n",
       "      <th>Unnamed: 0</th>\n",
       "      <th>text</th>\n",
       "      <th>favorited</th>\n",
       "      <th>favoriteCount</th>\n",
       "      <th>replyToSN</th>\n",
       "      <th>created</th>\n",
       "      <th>truncated</th>\n",
       "      <th>replyToSID</th>\n",
       "      <th>id</th>\n",
       "      <th>replyToUID</th>\n",
       "      <th>statusSource</th>\n",
       "      <th>screenName</th>\n",
       "      <th>retweetCount</th>\n",
       "      <th>isRetweet</th>\n",
       "      <th>retweeted</th>\n",
       "      <th>text_new</th>\n",
       "      <th>tweetos</th>\n",
       "    </tr>\n",
       "  </thead>\n",
       "  <tbody>\n",
       "    <tr>\n",
       "      <th>0</th>\n",
       "      <td>1</td>\n",
       "      <td>RT @rssurjewala: Critical question: Was PayTM ...</td>\n",
       "      <td>False</td>\n",
       "      <td>0</td>\n",
       "      <td>NaN</td>\n",
       "      <td>23-11-2016 18:40</td>\n",
       "      <td>False</td>\n",
       "      <td>NaN</td>\n",
       "      <td>8.014960e+17</td>\n",
       "      <td>NaN</td>\n",
       "      <td>&lt;a href=\"http://twitter.com/download/android\" ...</td>\n",
       "      <td>HASHTAGFARZIWAL</td>\n",
       "      <td>331</td>\n",
       "      <td>True</td>\n",
       "      <td>False</td>\n",
       "      <td>Critical question: Was PayTM informed about #...</td>\n",
       "      <td>RT @rssurjewala</td>\n",
       "    </tr>\n",
       "    <tr>\n",
       "      <th>1</th>\n",
       "      <td>2</td>\n",
       "      <td>RT @Hemant_80: Did you vote on #Demonetization...</td>\n",
       "      <td>False</td>\n",
       "      <td>0</td>\n",
       "      <td>NaN</td>\n",
       "      <td>23-11-2016 18:40</td>\n",
       "      <td>False</td>\n",
       "      <td>NaN</td>\n",
       "      <td>8.014960e+17</td>\n",
       "      <td>NaN</td>\n",
       "      <td>&lt;a href=\"http://twitter.com/download/android\" ...</td>\n",
       "      <td>PRAMODKAUSHIK9</td>\n",
       "      <td>66</td>\n",
       "      <td>True</td>\n",
       "      <td>False</td>\n",
       "      <td>Did you vote on #Demonetization on Modi surve...</td>\n",
       "      <td>RT @Hemant_80</td>\n",
       "    </tr>\n",
       "    <tr>\n",
       "      <th>2</th>\n",
       "      <td>3</td>\n",
       "      <td>RT @roshankar: Former FinSec, RBI Dy Governor,...</td>\n",
       "      <td>False</td>\n",
       "      <td>0</td>\n",
       "      <td>NaN</td>\n",
       "      <td>23-11-2016 18:40</td>\n",
       "      <td>False</td>\n",
       "      <td>NaN</td>\n",
       "      <td>8.014960e+17</td>\n",
       "      <td>NaN</td>\n",
       "      <td>&lt;a href=\"http://twitter.com/download/android\" ...</td>\n",
       "      <td>rahulja13034944</td>\n",
       "      <td>12</td>\n",
       "      <td>True</td>\n",
       "      <td>False</td>\n",
       "      <td>Former FinSec, RBI Dy Governor, CBDT Chair + ...</td>\n",
       "      <td>RT @roshankar</td>\n",
       "    </tr>\n",
       "  </tbody>\n",
       "</table>\n",
       "</div>"
      ],
      "text/plain": [
       "   Unnamed: 0                                               text favorited  \\\n",
       "0           1  RT @rssurjewala: Critical question: Was PayTM ...     False   \n",
       "1           2  RT @Hemant_80: Did you vote on #Demonetization...     False   \n",
       "2           3  RT @roshankar: Former FinSec, RBI Dy Governor,...     False   \n",
       "\n",
       "   favoriteCount replyToSN           created truncated  replyToSID  \\\n",
       "0              0       NaN  23-11-2016 18:40     False         NaN   \n",
       "1              0       NaN  23-11-2016 18:40     False         NaN   \n",
       "2              0       NaN  23-11-2016 18:40     False         NaN   \n",
       "\n",
       "             id  replyToUID  \\\n",
       "0  8.014960e+17         NaN   \n",
       "1  8.014960e+17         NaN   \n",
       "2  8.014960e+17         NaN   \n",
       "\n",
       "                                        statusSource       screenName  \\\n",
       "0  <a href=\"http://twitter.com/download/android\" ...  HASHTAGFARZIWAL   \n",
       "1  <a href=\"http://twitter.com/download/android\" ...   PRAMODKAUSHIK9   \n",
       "2  <a href=\"http://twitter.com/download/android\" ...  rahulja13034944   \n",
       "\n",
       "   retweetCount isRetweet retweeted  \\\n",
       "0           331      True     False   \n",
       "1            66      True     False   \n",
       "2            12      True     False   \n",
       "\n",
       "                                            text_new          tweetos  \n",
       "0   Critical question: Was PayTM informed about #...  RT @rssurjewala  \n",
       "1   Did you vote on #Demonetization on Modi surve...    RT @Hemant_80  \n",
       "2   Former FinSec, RBI Dy Governor, CBDT Chair + ...    RT @roshankar  "
      ]
     },
     "execution_count": 3,
     "metadata": {},
     "output_type": "execute_result"
    }
   ],
   "source": [
    "import re\n",
    "#Preprocessing del RT @blablabla:\n",
    "tweets['text_new'] = ''\n",
    "tweets['tweetos'] = '' \n",
    "\n",
    "#add tweetos first part\n",
    "for i in range(len(tweets['text'])):\n",
    "    try:\n",
    "        tweets['tweetos'][i] = tweets['text'].str.split(':')[i][0]\n",
    "    except AttributeError:    \n",
    "        tweets['tweetos'][i] = 'other'\n",
    "\n",
    "#Preprocessing tweetos. select tweetos contains 'RT @'\n",
    "for i in range(len(tweets['text'])):\n",
    "    if tweets['tweetos'].str.contains('RT @')[i]  == False:\n",
    "        tweets['tweetos'][i] = 'other'\n",
    "\n",
    "#'text_new' is the feature 'text' without the tweetos    \n",
    "for i in range(len(tweets['text'])):\n",
    "    m = re.search('(?<=:)(.*)', tweets['text'][i])\n",
    "    if tweets['text'].str.contains('RT @')[i]  == True:\n",
    "        try:\n",
    "            tweets['text_new'][i]=m.group(0)\n",
    "        except AttributeError:\n",
    "            tweets['text_new'][i]=tweets['text'][i] \n",
    "    else:       \n",
    "        tweets['text_new'][i] =  tweets['text'][i] \n",
    "\n",
    "tweets.head(3)"
   ]
  },
  {
   "cell_type": "markdown",
   "metadata": {},
   "source": [
    "# Tweets Recorded Per Hour"
   ]
  },
  {
   "cell_type": "code",
   "execution_count": 1,
   "metadata": {
    "collapsed": false
   },
   "outputs": [
    {
     "ename": "NameError",
     "evalue": "name 'tweets' is not defined",
     "output_type": "error",
     "traceback": [
      "\u001b[0;31m---------------------------------------------------------------------------\u001b[0m",
      "\u001b[0;31mNameError\u001b[0m                                 Traceback (most recent call last)",
      "\u001b[0;32m<ipython-input-1-bc2a3dd18f92>\u001b[0m in \u001b[0;36m<module>\u001b[0;34m()\u001b[0m\n\u001b[0;32m----> 1\u001b[0;31m \u001b[0mtweets\u001b[0m\u001b[1;33m[\u001b[0m\u001b[1;34m'nb_words'\u001b[0m\u001b[1;33m]\u001b[0m \u001b[1;33m=\u001b[0m \u001b[1;36m0\u001b[0m\u001b[1;33m\u001b[0m\u001b[0m\n\u001b[0m\u001b[1;32m      2\u001b[0m \u001b[1;32mfor\u001b[0m \u001b[0mi\u001b[0m \u001b[1;32min\u001b[0m \u001b[0mrange\u001b[0m\u001b[1;33m(\u001b[0m\u001b[0mlen\u001b[0m\u001b[1;33m(\u001b[0m\u001b[0mtweets\u001b[0m\u001b[1;33m[\u001b[0m\u001b[1;34m'text'\u001b[0m\u001b[1;33m]\u001b[0m\u001b[1;33m)\u001b[0m\u001b[1;33m)\u001b[0m\u001b[1;33m:\u001b[0m\u001b[1;33m\u001b[0m\u001b[0m\n\u001b[1;32m      3\u001b[0m     \u001b[0mtweets\u001b[0m\u001b[1;33m[\u001b[0m\u001b[1;34m'nb_words'\u001b[0m\u001b[1;33m]\u001b[0m\u001b[1;33m[\u001b[0m\u001b[0mi\u001b[0m\u001b[1;33m]\u001b[0m \u001b[1;33m=\u001b[0m \u001b[0mlen\u001b[0m\u001b[1;33m(\u001b[0m\u001b[0mtweets\u001b[0m\u001b[1;33m[\u001b[0m\u001b[1;34m'text'\u001b[0m\u001b[1;33m]\u001b[0m\u001b[1;33m[\u001b[0m\u001b[0mi\u001b[0m\u001b[1;33m]\u001b[0m\u001b[1;33m.\u001b[0m\u001b[0msplit\u001b[0m\u001b[1;33m(\u001b[0m\u001b[1;34m' '\u001b[0m\u001b[1;33m)\u001b[0m\u001b[1;33m)\u001b[0m\u001b[1;33m\u001b[0m\u001b[0m\n\u001b[1;32m      4\u001b[0m \u001b[0mtweets\u001b[0m\u001b[1;33m[\u001b[0m\u001b[1;34m'hour'\u001b[0m\u001b[1;33m]\u001b[0m \u001b[1;33m=\u001b[0m \u001b[0mpd\u001b[0m\u001b[1;33m.\u001b[0m\u001b[0mDatetimeIndex\u001b[0m\u001b[1;33m(\u001b[0m\u001b[0mtweets\u001b[0m\u001b[1;33m[\u001b[0m\u001b[1;34m'created'\u001b[0m\u001b[1;33m]\u001b[0m\u001b[1;33m)\u001b[0m\u001b[1;33m.\u001b[0m\u001b[0mhour\u001b[0m\u001b[1;33m\u001b[0m\u001b[0m\n\u001b[1;32m      5\u001b[0m \u001b[0mtweets\u001b[0m\u001b[1;33m[\u001b[0m\u001b[1;34m'date'\u001b[0m\u001b[1;33m]\u001b[0m \u001b[1;33m=\u001b[0m \u001b[0mpd\u001b[0m\u001b[1;33m.\u001b[0m\u001b[0mDatetimeIndex\u001b[0m\u001b[1;33m(\u001b[0m\u001b[0mtweets\u001b[0m\u001b[1;33m[\u001b[0m\u001b[1;34m'created'\u001b[0m\u001b[1;33m]\u001b[0m\u001b[1;33m)\u001b[0m\u001b[1;33m.\u001b[0m\u001b[0mdate\u001b[0m\u001b[1;33m\u001b[0m\u001b[0m\n",
      "\u001b[0;31mNameError\u001b[0m: name 'tweets' is not defined"
     ]
    }
   ],
   "source": [
    "tweets['nb_words'] = 0\n",
    "for i in range(len(tweets['text'])):\n",
    "    tweets['nb_words'][i] = len(tweets['text'][i].split(' '))\n",
    "tweets['hour'] = pd.DatetimeIndex(tweets['created']).hour\n",
    "tweets['date'] = pd.DatetimeIndex(tweets['created']).date\n",
    "tweets['minute'] = pd.DatetimeIndex(tweets['created']).minute\n",
    "tweets_hour = tweets.groupby(['hour'])['retweetCount'].sum()\n",
    "tweets_minute = tweets.groupby(['minute'])['retweetCount'].sum()\n",
    "print(tweets_hour.index)"
   ]
  },
  {
   "cell_type": "code",
   "execution_count": 5,
   "metadata": {
    "collapsed": false
   },
   "outputs": [
    {
     "data": {
      "text/plain": [
       "<matplotlib.axes._subplots.AxesSubplot at 0x1987856e1d0>"
      ]
     },
     "execution_count": 5,
     "metadata": {},
     "output_type": "execute_result"
    },
    {
     "data": {
      "image/png": "[encoded data removed]",
      "text/plain": [
       "<matplotlib.figure.Figure at 0x1987856e908>"
      ]
     },
     "metadata": {},
     "output_type": "display_data"
    }
   ],
   "source": [
    "tweets_hour.plot(kind='line',figsize=(10, 10))"
   ]
  },
  {
   "cell_type": "markdown",
   "metadata": {},
   "source": [
    "# Source Of Tweets"
   ]
  },
  {
   "cell_type": "code",
   "execution_count": 6,
   "metadata": {
    "collapsed": false
   },
   "outputs": [],
   "source": [
    "tweets['statusSource_new'] = ''\n",
    "\n",
    "for i in range(len(tweets['statusSource'])):\n",
    "    m = re.search('(?<=>)(.*)', tweets['statusSource'][i])\n",
    "    try:\n",
    "        tweets['statusSource_new'][i]=m.group(0)\n",
    "    except AttributeError:\n",
    "        tweets['statusSource_new'][i]=tweets['statusSource'][i]\n",
    "        \n",
    "#print(tweets['statusSource_new'].head())   \n",
    "\n",
    "tweets['statusSource_new'] = tweets['statusSource_new'].str.replace('</a>', ' ', case=False)\n"
   ]
  },
  {
   "cell_type": "code",
   "execution_count": 7,
   "metadata": {
    "collapsed": false
   },
   "outputs": [
    {
     "data": {
      "text/plain": [
       "<matplotlib.axes._subplots.AxesSubplot at 0x19879c7ca58>"
      ]
     },
     "execution_count": 7,
     "metadata": {},
     "output_type": "execute_result"
    },
    {
     "data": {
      "image/png": "[encoded data removed]",
      "text/plain": [
       "<matplotlib.figure.Figure at 0x19879c7c240>"
      ]
     },
     "metadata": {},
     "output_type": "display_data"
    }
   ],
   "source": [
    "tweets_by_type= tweets.groupby(['statusSource_new'])['retweetCount'].sum()\n",
    "tweets_by_type.plot(kind='bar',figsize=(10, 10))\n"
   ]
  },
  {
   "cell_type": "code",
   "execution_count": 10,
   "metadata": {
    "collapsed": false
   },
   "outputs": [
    {
     "name": "stdout",
     "output_type": "stream",
     "text": [
      "showing info https://raw.githubusercontent.com/nltk/nltk_data/gh-pages/index.xml\n"
     ]
    },
    {
     "data": {
      "text/plain": [
       "True"
      ]
     },
     "execution_count": 10,
     "metadata": {},
     "output_type": "execute_result"
    }
   ],
   "source": [
    "import nltk\n",
    "nltk.download()"
   ]
  },
  {
   "cell_type": "markdown",
   "metadata": {},
   "source": [
    "# Lemmatizing Sentences"
   ]
  },
  {
   "cell_type": "code",
   "execution_count": 8,
   "metadata": {
    "collapsed": false
   },
   "outputs": [
    {
     "data": {
      "text/html": [
       "<div>\n",
       "<table border=\"1\" class=\"dataframe\">\n",
       "  <thead>\n",
       "    <tr style=\"text-align: right;\">\n",
       "      <th></th>\n",
       "      <th>Unnamed: 0</th>\n",
       "      <th>text</th>\n",
       "      <th>favorited</th>\n",
       "      <th>favoriteCount</th>\n",
       "      <th>replyToSN</th>\n",
       "      <th>created</th>\n",
       "      <th>truncated</th>\n",
       "      <th>replyToSID</th>\n",
       "      <th>id</th>\n",
       "      <th>replyToUID</th>\n",
       "      <th>...</th>\n",
       "      <th>isRetweet</th>\n",
       "      <th>retweeted</th>\n",
       "      <th>text_new</th>\n",
       "      <th>tweetos</th>\n",
       "      <th>nb_words</th>\n",
       "      <th>hour</th>\n",
       "      <th>date</th>\n",
       "      <th>minute</th>\n",
       "      <th>statusSource_new</th>\n",
       "      <th>text_lem</th>\n",
       "    </tr>\n",
       "  </thead>\n",
       "  <tbody>\n",
       "    <tr>\n",
       "      <th>0</th>\n",
       "      <td>1</td>\n",
       "      <td>RT @rssurjewala: Critical question: Was PayTM ...</td>\n",
       "      <td>False</td>\n",
       "      <td>0</td>\n",
       "      <td>NaN</td>\n",
       "      <td>23-11-2016 18:40</td>\n",
       "      <td>False</td>\n",
       "      <td>NaN</td>\n",
       "      <td>8.014960e+17</td>\n",
       "      <td>NaN</td>\n",
       "      <td>...</td>\n",
       "      <td>True</td>\n",
       "      <td>False</td>\n",
       "      <td>Critical question: Was PayTM informed about #...</td>\n",
       "      <td>RT @rssurjewala</td>\n",
       "      <td>20</td>\n",
       "      <td>18</td>\n",
       "      <td>2016-11-23</td>\n",
       "      <td>40</td>\n",
       "      <td>Twitter for Android</td>\n",
       "      <td>Critical question  Was PayTM informed about  D...</td>\n",
       "    </tr>\n",
       "    <tr>\n",
       "      <th>1</th>\n",
       "      <td>2</td>\n",
       "      <td>RT @Hemant_80: Did you vote on #Demonetization...</td>\n",
       "      <td>False</td>\n",
       "      <td>0</td>\n",
       "      <td>NaN</td>\n",
       "      <td>23-11-2016 18:40</td>\n",
       "      <td>False</td>\n",
       "      <td>NaN</td>\n",
       "      <td>8.014960e+17</td>\n",
       "      <td>NaN</td>\n",
       "      <td>...</td>\n",
       "      <td>True</td>\n",
       "      <td>False</td>\n",
       "      <td>Did you vote on #Demonetization on Modi surve...</td>\n",
       "      <td>RT @Hemant_80</td>\n",
       "      <td>11</td>\n",
       "      <td>18</td>\n",
       "      <td>2016-11-23</td>\n",
       "      <td>40</td>\n",
       "      <td>Twitter for Android</td>\n",
       "      <td>Did you vote on  Demonetization on Modi survey...</td>\n",
       "    </tr>\n",
       "    <tr>\n",
       "      <th>2</th>\n",
       "      <td>3</td>\n",
       "      <td>RT @roshankar: Former FinSec, RBI Dy Governor,...</td>\n",
       "      <td>False</td>\n",
       "      <td>0</td>\n",
       "      <td>NaN</td>\n",
       "      <td>23-11-2016 18:40</td>\n",
       "      <td>False</td>\n",
       "      <td>NaN</td>\n",
       "      <td>8.014960e+17</td>\n",
       "      <td>NaN</td>\n",
       "      <td>...</td>\n",
       "      <td>True</td>\n",
       "      <td>False</td>\n",
       "      <td>Former FinSec, RBI Dy Governor, CBDT Chair + ...</td>\n",
       "      <td>RT @roshankar</td>\n",
       "      <td>21</td>\n",
       "      <td>18</td>\n",
       "      <td>2016-11-23</td>\n",
       "      <td>40</td>\n",
       "      <td>Twitter for Android</td>\n",
       "      <td>Former FinSec  RBI Dy Governor  CBDT Chair   H...</td>\n",
       "    </tr>\n",
       "    <tr>\n",
       "      <th>3</th>\n",
       "      <td>4</td>\n",
       "      <td>RT @ANI_news: Gurugram (Haryana): Post office ...</td>\n",
       "      <td>False</td>\n",
       "      <td>0</td>\n",
       "      <td>NaN</td>\n",
       "      <td>23-11-2016 18:39</td>\n",
       "      <td>False</td>\n",
       "      <td>NaN</td>\n",
       "      <td>8.014960e+17</td>\n",
       "      <td>NaN</td>\n",
       "      <td>...</td>\n",
       "      <td>True</td>\n",
       "      <td>False</td>\n",
       "      <td>Gurugram (Haryana): Post office employees pro...</td>\n",
       "      <td>RT @ANI_news</td>\n",
       "      <td>16</td>\n",
       "      <td>18</td>\n",
       "      <td>2016-11-23</td>\n",
       "      <td>39</td>\n",
       "      <td>Twitter for Android</td>\n",
       "      <td>Gurugram  Haryana   Post office employees prov...</td>\n",
       "    </tr>\n",
       "    <tr>\n",
       "      <th>4</th>\n",
       "      <td>5</td>\n",
       "      <td>RT @satishacharya: Reddy Wedding! @mail_today ...</td>\n",
       "      <td>False</td>\n",
       "      <td>0</td>\n",
       "      <td>NaN</td>\n",
       "      <td>23-11-2016 18:39</td>\n",
       "      <td>False</td>\n",
       "      <td>NaN</td>\n",
       "      <td>8.014950e+17</td>\n",
       "      <td>NaN</td>\n",
       "      <td>...</td>\n",
       "      <td>True</td>\n",
       "      <td>False</td>\n",
       "      <td>Reddy Wedding! @mail_today cartoon #demonetiz...</td>\n",
       "      <td>RT @satishacharya</td>\n",
       "      <td>9</td>\n",
       "      <td>18</td>\n",
       "      <td>2016-11-23</td>\n",
       "      <td>39</td>\n",
       "      <td>CPIMBadli</td>\n",
       "      <td>Reddy Wedding   mail today cartoon  demonetiza...</td>\n",
       "    </tr>\n",
       "  </tbody>\n",
       "</table>\n",
       "<p>5 rows × 23 columns</p>\n",
       "</div>"
      ],
      "text/plain": [
       "   Unnamed: 0                                               text favorited  \\\n",
       "0           1  RT @rssurjewala: Critical question: Was PayTM ...     False   \n",
       "1           2  RT @Hemant_80: Did you vote on #Demonetization...     False   \n",
       "2           3  RT @roshankar: Former FinSec, RBI Dy Governor,...     False   \n",
       "3           4  RT @ANI_news: Gurugram (Haryana): Post office ...     False   \n",
       "4           5  RT @satishacharya: Reddy Wedding! @mail_today ...     False   \n",
       "\n",
       "   favoriteCount replyToSN           created truncated  replyToSID  \\\n",
       "0              0       NaN  23-11-2016 18:40     False         NaN   \n",
       "1              0       NaN  23-11-2016 18:40     False         NaN   \n",
       "2              0       NaN  23-11-2016 18:40     False         NaN   \n",
       "3              0       NaN  23-11-2016 18:39     False         NaN   \n",
       "4              0       NaN  23-11-2016 18:39     False         NaN   \n",
       "\n",
       "             id  replyToUID  \\\n",
       "0  8.014960e+17         NaN   \n",
       "1  8.014960e+17         NaN   \n",
       "2  8.014960e+17         NaN   \n",
       "3  8.014960e+17         NaN   \n",
       "4  8.014950e+17         NaN   \n",
       "\n",
       "                         ...                         isRetweet retweeted  \\\n",
       "0                        ...                              True     False   \n",
       "1                        ...                              True     False   \n",
       "2                        ...                              True     False   \n",
       "3                        ...                              True     False   \n",
       "4                        ...                              True     False   \n",
       "\n",
       "                                            text_new            tweetos  \\\n",
       "0   Critical question: Was PayTM informed about #...    RT @rssurjewala   \n",
       "1   Did you vote on #Demonetization on Modi surve...      RT @Hemant_80   \n",
       "2   Former FinSec, RBI Dy Governor, CBDT Chair + ...      RT @roshankar   \n",
       "3   Gurugram (Haryana): Post office employees pro...       RT @ANI_news   \n",
       "4   Reddy Wedding! @mail_today cartoon #demonetiz...  RT @satishacharya   \n",
       "\n",
       "  nb_words hour        date  minute      statusSource_new  \\\n",
       "0       20   18  2016-11-23      40  Twitter for Android    \n",
       "1       11   18  2016-11-23      40  Twitter for Android    \n",
       "2       21   18  2016-11-23      40  Twitter for Android    \n",
       "3       16   18  2016-11-23      39  Twitter for Android    \n",
       "4        9   18  2016-11-23      39            CPIMBadli    \n",
       "\n",
       "                                            text_lem  \n",
       "0  Critical question  Was PayTM informed about  D...  \n",
       "1  Did you vote on  Demonetization on Modi survey...  \n",
       "2  Former FinSec  RBI Dy Governor  CBDT Chair   H...  \n",
       "3  Gurugram  Haryana   Post office employees prov...  \n",
       "4  Reddy Wedding   mail today cartoon  demonetiza...  \n",
       "\n",
       "[5 rows x 23 columns]"
      ]
     },
     "execution_count": 8,
     "metadata": {},
     "output_type": "execute_result"
    }
   ],
   "source": [
    "from nltk.stem import WordNetLemmatizer\n",
    "#tweets['text_sep'] = [''.join(z).strip() for z in tweets['text_new']]\n",
    "tweets['text_lem'] = [''.join([WordNetLemmatizer().lemmatize(re.sub('[^A-Za-z]', ' ', line),pos=\"a\") for line in lists]).strip() for lists in tweets['text_new']]\n",
    "tweets.head()"
   ]
  },
  {
   "cell_type": "markdown",
   "metadata": {},
   "source": [
    "# Plotting Sentiments"
   ]
  },
  {
   "cell_type": "code",
   "execution_count": 19,
   "metadata": {
    "collapsed": false
   },
   "outputs": [
    {
     "data": {
      "text/html": [
       "<div>\n",
       "<table border=\"1\" class=\"dataframe\">\n",
       "  <thead>\n",
       "    <tr style=\"text-align: right;\">\n",
       "      <th></th>\n",
       "      <th>Unnamed: 0</th>\n",
       "      <th>text</th>\n",
       "      <th>favorited</th>\n",
       "      <th>favoriteCount</th>\n",
       "      <th>replyToSN</th>\n",
       "      <th>created</th>\n",
       "      <th>truncated</th>\n",
       "      <th>replyToSID</th>\n",
       "      <th>id</th>\n",
       "      <th>replyToUID</th>\n",
       "      <th>...</th>\n",
       "      <th>retweeted</th>\n",
       "      <th>text_new</th>\n",
       "      <th>tweetos</th>\n",
       "      <th>nb_words</th>\n",
       "      <th>hour</th>\n",
       "      <th>date</th>\n",
       "      <th>minute</th>\n",
       "      <th>statusSource_new</th>\n",
       "      <th>text_lem</th>\n",
       "      <th>sentiment_type</th>\n",
       "    </tr>\n",
       "  </thead>\n",
       "  <tbody>\n",
       "    <tr>\n",
       "      <th>0</th>\n",
       "      <td>1</td>\n",
       "      <td>RT @rssurjewala: Critical question: Was PayTM ...</td>\n",
       "      <td>False</td>\n",
       "      <td>0</td>\n",
       "      <td>NaN</td>\n",
       "      <td>23-11-2016 18:40</td>\n",
       "      <td>False</td>\n",
       "      <td>NaN</td>\n",
       "      <td>8.014960e+17</td>\n",
       "      <td>NaN</td>\n",
       "      <td>...</td>\n",
       "      <td>False</td>\n",
       "      <td>Critical question: Was PayTM informed about #...</td>\n",
       "      <td>RT @rssurjewala</td>\n",
       "      <td>20</td>\n",
       "      <td>18</td>\n",
       "      <td>2016-11-23</td>\n",
       "      <td>40</td>\n",
       "      <td>Twitter for Android</td>\n",
       "      <td>Critical question  Was PayTM informed about  D...</td>\n",
       "      <td>POSITIVE</td>\n",
       "    </tr>\n",
       "    <tr>\n",
       "      <th>1</th>\n",
       "      <td>2</td>\n",
       "      <td>RT @Hemant_80: Did you vote on #Demonetization...</td>\n",
       "      <td>False</td>\n",
       "      <td>0</td>\n",
       "      <td>NaN</td>\n",
       "      <td>23-11-2016 18:40</td>\n",
       "      <td>False</td>\n",
       "      <td>NaN</td>\n",
       "      <td>8.014960e+17</td>\n",
       "      <td>NaN</td>\n",
       "      <td>...</td>\n",
       "      <td>False</td>\n",
       "      <td>Did you vote on #Demonetization on Modi surve...</td>\n",
       "      <td>RT @Hemant_80</td>\n",
       "      <td>11</td>\n",
       "      <td>18</td>\n",
       "      <td>2016-11-23</td>\n",
       "      <td>40</td>\n",
       "      <td>Twitter for Android</td>\n",
       "      <td>Did you vote on  Demonetization on Modi survey...</td>\n",
       "      <td>POSITIVE</td>\n",
       "    </tr>\n",
       "    <tr>\n",
       "      <th>2</th>\n",
       "      <td>3</td>\n",
       "      <td>RT @roshankar: Former FinSec, RBI Dy Governor,...</td>\n",
       "      <td>False</td>\n",
       "      <td>0</td>\n",
       "      <td>NaN</td>\n",
       "      <td>23-11-2016 18:40</td>\n",
       "      <td>False</td>\n",
       "      <td>NaN</td>\n",
       "      <td>8.014960e+17</td>\n",
       "      <td>NaN</td>\n",
       "      <td>...</td>\n",
       "      <td>False</td>\n",
       "      <td>Former FinSec, RBI Dy Governor, CBDT Chair + ...</td>\n",
       "      <td>RT @roshankar</td>\n",
       "      <td>21</td>\n",
       "      <td>18</td>\n",
       "      <td>2016-11-23</td>\n",
       "      <td>40</td>\n",
       "      <td>Twitter for Android</td>\n",
       "      <td>Former FinSec  RBI Dy Governor  CBDT Chair   H...</td>\n",
       "      <td>NEGATIVE</td>\n",
       "    </tr>\n",
       "    <tr>\n",
       "      <th>3</th>\n",
       "      <td>4</td>\n",
       "      <td>RT @ANI_news: Gurugram (Haryana): Post office ...</td>\n",
       "      <td>False</td>\n",
       "      <td>0</td>\n",
       "      <td>NaN</td>\n",
       "      <td>23-11-2016 18:39</td>\n",
       "      <td>False</td>\n",
       "      <td>NaN</td>\n",
       "      <td>8.014960e+17</td>\n",
       "      <td>NaN</td>\n",
       "      <td>...</td>\n",
       "      <td>False</td>\n",
       "      <td>Gurugram (Haryana): Post office employees pro...</td>\n",
       "      <td>RT @ANI_news</td>\n",
       "      <td>16</td>\n",
       "      <td>18</td>\n",
       "      <td>2016-11-23</td>\n",
       "      <td>39</td>\n",
       "      <td>Twitter for Android</td>\n",
       "      <td>Gurugram  Haryana   Post office employees prov...</td>\n",
       "      <td>NEGATIVE</td>\n",
       "    </tr>\n",
       "    <tr>\n",
       "      <th>4</th>\n",
       "      <td>5</td>\n",
       "      <td>RT @satishacharya: Reddy Wedding! @mail_today ...</td>\n",
       "      <td>False</td>\n",
       "      <td>0</td>\n",
       "      <td>NaN</td>\n",
       "      <td>23-11-2016 18:39</td>\n",
       "      <td>False</td>\n",
       "      <td>NaN</td>\n",
       "      <td>8.014950e+17</td>\n",
       "      <td>NaN</td>\n",
       "      <td>...</td>\n",
       "      <td>False</td>\n",
       "      <td>Reddy Wedding! @mail_today cartoon #demonetiz...</td>\n",
       "      <td>RT @satishacharya</td>\n",
       "      <td>9</td>\n",
       "      <td>18</td>\n",
       "      <td>2016-11-23</td>\n",
       "      <td>39</td>\n",
       "      <td>CPIMBadli</td>\n",
       "      <td>Reddy Wedding   mail today cartoon  demonetiza...</td>\n",
       "      <td>NEGATIVE</td>\n",
       "    </tr>\n",
       "  </tbody>\n",
       "</table>\n",
       "<p>5 rows × 24 columns</p>\n",
       "</div>"
      ],
      "text/plain": [
       "   Unnamed: 0                                               text favorited  \\\n",
       "0           1  RT @rssurjewala: Critical question: Was PayTM ...     False   \n",
       "1           2  RT @Hemant_80: Did you vote on #Demonetization...     False   \n",
       "2           3  RT @roshankar: Former FinSec, RBI Dy Governor,...     False   \n",
       "3           4  RT @ANI_news: Gurugram (Haryana): Post office ...     False   \n",
       "4           5  RT @satishacharya: Reddy Wedding! @mail_today ...     False   \n",
       "\n",
       "   favoriteCount replyToSN           created truncated  replyToSID  \\\n",
       "0              0       NaN  23-11-2016 18:40     False         NaN   \n",
       "1              0       NaN  23-11-2016 18:40     False         NaN   \n",
       "2              0       NaN  23-11-2016 18:40     False         NaN   \n",
       "3              0       NaN  23-11-2016 18:39     False         NaN   \n",
       "4              0       NaN  23-11-2016 18:39     False         NaN   \n",
       "\n",
       "             id  replyToUID      ...       retweeted  \\\n",
       "0  8.014960e+17         NaN      ...           False   \n",
       "1  8.014960e+17         NaN      ...           False   \n",
       "2  8.014960e+17         NaN      ...           False   \n",
       "3  8.014960e+17         NaN      ...           False   \n",
       "4  8.014950e+17         NaN      ...           False   \n",
       "\n",
       "                                            text_new            tweetos  \\\n",
       "0   Critical question: Was PayTM informed about #...    RT @rssurjewala   \n",
       "1   Did you vote on #Demonetization on Modi surve...      RT @Hemant_80   \n",
       "2   Former FinSec, RBI Dy Governor, CBDT Chair + ...      RT @roshankar   \n",
       "3   Gurugram (Haryana): Post office employees pro...       RT @ANI_news   \n",
       "4   Reddy Wedding! @mail_today cartoon #demonetiz...  RT @satishacharya   \n",
       "\n",
       "  nb_words hour        date minute      statusSource_new  \\\n",
       "0       20   18  2016-11-23     40  Twitter for Android    \n",
       "1       11   18  2016-11-23     40  Twitter for Android    \n",
       "2       21   18  2016-11-23     40  Twitter for Android    \n",
       "3       16   18  2016-11-23     39  Twitter for Android    \n",
       "4        9   18  2016-11-23     39            CPIMBadli    \n",
       "\n",
       "                                            text_lem sentiment_type  \n",
       "0  Critical question  Was PayTM informed about  D...       POSITIVE  \n",
       "1  Did you vote on  Demonetization on Modi survey...       POSITIVE  \n",
       "2  Former FinSec  RBI Dy Governor  CBDT Chair   H...       NEGATIVE  \n",
       "3  Gurugram  Haryana   Post office employees prov...       NEGATIVE  \n",
       "4  Reddy Wedding   mail today cartoon  demonetiza...       NEGATIVE  \n",
       "\n",
       "[5 rows x 24 columns]"
      ]
     },
     "execution_count": 19,
     "metadata": {},
     "output_type": "execute_result"
    }
   ],
   "source": [
    "# from nltk.sentiment.vader import SentimentIntensityAnalyzer\n",
    "# from nltk.sentiment.util import *\n",
    "# from nltk import tokenize\n",
    "\n",
    "# sid = SentimentIntensityAnalyzer()\n",
    "import sentiment_mod as s\n",
    "tweets['sentiment_type']=''\n",
    "# tweets.loc[s.sentiment(tweets.text_lem)=='pos','sentiment_type']='POSITIVE'\n",
    "# tweets.loc[s.sentiment(tweets.text_lem)=='neg','sentiment_type']='NEGATIVE'\n",
    "for index,rows in tweets.iterrows():\n",
    "    if(s.sentiment(rows['text_lem'])=='pos'):\n",
    "#         print('pos')\n",
    "        tweets.loc[index,'sentiment_type']='POSITIVE'\n",
    "    elif(s.sentiment(rows['text_lem'])=='neg'):\n",
    "#         print('neg')\n",
    "        tweets.loc[index,'sentiment_type']='NEGATIVE'\n",
    "tweets.head(5)\n"
   ]
  },
  {
   "cell_type": "code",
   "execution_count": 56,
   "metadata": {
    "collapsed": true
   },
   "outputs": [],
   "source": [
    "tweets.to_csv(\"twitter-analysis.csv\")"
   ]
  },
  {
   "cell_type": "code",
   "execution_count": 55,
   "metadata": {
    "collapsed": false
   },
   "outputs": [
    {
     "name": "stdout",
     "output_type": "stream",
     "text": [
      "sentiment_type\n",
      "NEGATIVE    5575\n",
      "POSITIVE    2425\n",
      "Name: text, dtype: int64\n"
     ]
    },
    {
     "data": {
      "text/plain": [
       "<matplotlib.axes._subplots.AxesSubplot at 0x198341e4f28>"
      ]
     },
     "execution_count": 55,
     "metadata": {},
     "output_type": "execute_result"
    },
    {
     "data": {
      "image/png": "[encoded data removed]",
      "text/plain": [
       "<matplotlib.figure.Figure at 0x19833ff56d8>"
      ]
     },
     "metadata": {},
     "output_type": "display_data"
    }
   ],
   "source": [
    "import matplotlib\n",
    "matplotlib.style.use('ggplot')\n",
    "\n",
    "tweets_sentiment = tweets.groupby(['sentiment_type']).count()\n",
    "# type(tweets_sentiment['text'])\n",
    "print(tweets_sentiment['text'])\n",
    "df_ = pd.DataFrame(index=['POSITIVE','NEGATIVE'], columns=['COUNT'])\n",
    "# for count,rows in tweets_sentiment.iterrows():\n",
    "#     print(rows.index)\n",
    "#     df_.loc['POSITIVE','COUNT']=rows['text']\n",
    "explode = (0, 0.5)\n",
    "plt.title('Sentiment Analysis as on 23 Nov 2016', bbox={'facecolor':'0.8', 'pad':5})\n",
    "tweets_sentiment['text'].plot(kind=\"pie\",autopct='%1.1f%%' ,explode=explode)\n",
    "# tweets_sentiment.rename(\"\",inplace=True)\n",
    "# explode = (0, 0, 1.0)\n",
    "# plt.subplot(221)\n",
    "# tweets_sentiment.transpose().plot(kind='barh',figsize=(10, 6))\n",
    "# plt.title('Sentiment Analysis 1', bbox={'facecolor':'0.8', 'pad':0})\n",
    "# plt.subplot(222)\n",
    "# tweets_sentiment.plot(kind='pie',figsize=(10, 6),autopct='%1.1f%%',shadow=True,explode=explode)\n",
    "# plt.legend(bbox_to_anchor=(1, 1), loc=3, borderaxespad=0.)\n",
    "# plt.title('Sentiment Analysis 2', bbox={'facecolor':'0.8', 'pad':0})\n",
    "# plt.show()"
   ]
  },
  {
   "cell_type": "code",
   "execution_count": 29,
   "metadata": {
    "collapsed": false
   },
   "outputs": [
    {
     "name": "stdout",
     "output_type": "stream",
     "text": [
      "['$arvind$keju$this$are$getting$$$$$$$$Hii$yr']\n"
     ]
    }
   ],
   "source": [
    "print(WordNetLemmatizer().lemmatize(re.sub('[^A-Za-z]', '$', \"#arvind keju this are getting . 2/20 Hii yr\"))) #match any character except A-Za-z and will be replaced by $"
   ]
  },
  {
   "cell_type": "markdown",
   "metadata": {
    "collapsed": true
   },
   "source": [
    "# Sentiment Analysis Using Our Own Classification"
   ]
  },
  {
   "cell_type": "code",
   "execution_count": 11,
   "metadata": {
    "collapsed": false
   },
   "outputs": [],
   "source": [
    "# neg=1;\n",
    "# pos=1;\n",
    "# for ind,x in tweets.iterrows():\n",
    "#     if x['sentiment_type'] == \"NEGATIVE\":\n",
    "#         file_name=\"/home/kamaljeet/anaconda3/twit_data/neg/neg_\"+str(neg)+\".txt\"\n",
    "#         neg+=1\n",
    "#         f=open(file_name,'w+')\n",
    "#         f.write(str(x['text_lem']))\n",
    "#         f.close()\n",
    "#     elif x['sentiment_type'] == \"POSITIVE\":\n",
    "#         file_name=\"/home/kamaljeet/anaconda3/twit_data/pos/pos_\"+str(pos)+\".txt\"\n",
    "#         pos+=1\n",
    "#         f=open(file_name,'w+')\n",
    "#         f.write(str(x['text_lem']))\n",
    "#         f.close()"
   ]
  },
  {
   "cell_type": "code",
   "execution_count": 1,
   "metadata": {
    "collapsed": false
   },
   "outputs": [
    {
     "name": "stdout",
     "output_type": "stream",
     "text": [
      "showing info https://raw.githubusercontent.com/nltk/nltk_data/gh-pages/index.xml\n"
     ]
    },
    {
     "data": {
      "text/plain": [
       "True"
      ]
     },
     "execution_count": 1,
     "metadata": {},
     "output_type": "execute_result"
    }
   ],
   "source": [
    "import nltk\n",
    "nltk.download()"
   ]
  },
  {
   "cell_type": "code",
   "execution_count": 8,
   "metadata": {
    "collapsed": false
   },
   "outputs": [],
   "source": [
    "import os\n",
    "import random\n",
    "import nltk\n",
    "from nltk.tokenize import word_tokenize\n",
    "# from nltk.corpus import CategorizedPlaintextCorpusReader\n",
    "# twit = CategorizedPlaintextCorpusReader('/home/kamaljeet/anaconda3/twit_data/', r'(?!\\.).*\\.txt', cat_pattern=r'(neg|pos)/.*')\n",
    "\n",
    "# documents = [(list(twit.words(fileid)),category)\n",
    "#             for category in twit.categories() \n",
    "#             for fileid in twit.fileids(category)]\n",
    "\n",
    "# random.shuffle(documents)\n",
    "\n",
    "# all_words=[]\n",
    "# for w in twit.words():\n",
    "#     all_words.append(w.lower())\n",
    "\n",
    "# all_words = nltk.FreqDist(all_words)\n",
    "# word_features = list(all_words.keys())[:2000]\n",
    "short_pos = open(\"C:/Users/mohinder/twit/pos_dem.txt\",\"r\",encoding='utf-8').read()\n",
    "short_neg = open(\"C:/Users/mohinder/twit/neg_dem.txt\",\"r\",encoding='utf-8').read()\n",
    "\n",
    "documents = []\n",
    "\n",
    "for r in short_pos.split('\\n'):\n",
    "    documents.append( (r, \"pos\") )\n",
    "\n",
    "for r in short_neg.split('\\n'):\n",
    "    documents.append( (r, \"neg\") )\n",
    "\n",
    "\n",
    "all_words = []\n",
    "\n",
    "short_pos_words = word_tokenize(short_pos)\n",
    "short_neg_words = word_tokenize(short_neg)\n",
    "\n",
    "for w in short_pos_words:\n",
    "    all_words.append(w.lower())\n",
    "\n",
    "for w in short_neg_words:\n",
    "    all_words.append(w.lower())\n",
    "\n",
    "all_words = nltk.FreqDist(all_words)\n",
    "word_features = list(all_words.keys())[:3000]\n",
    "    \n",
    "def find_features(document):\n",
    "    words = word_tokenize(document)\n",
    "    features = {}\n",
    "    for w in word_features:\n",
    "        features[w] = (w in words)\n",
    "\n",
    "    return features\n",
    "\n",
    "random.shuffle(documents)     \n",
    "# # print((find_features(twit.words('/home/kamaljeet/anaconda3/twit_data/neg/neg_40.txt'))))\n",
    "\n"
   ]
  },
  {
   "cell_type": "code",
   "execution_count": 9,
   "metadata": {
    "collapsed": false
   },
   "outputs": [],
   "source": [
    "feature_set = [(find_features(rev),category) for (rev, category) in documents]\n"
   ]
  },
  {
   "cell_type": "markdown",
   "metadata": {
    "collapsed": true
   },
   "source": [
    "CLASSIFICATION--"
   ]
  },
  {
   "cell_type": "code",
   "execution_count": 10,
   "metadata": {
    "collapsed": false
   },
   "outputs": [
    {
     "name": "stdout",
     "output_type": "stream",
     "text": [
      "5755\n",
      "Naive Bayes Accuracy: 86.75496688741721\n",
      "Most Informative Features\n",
      "                   happy = True              pos : neg    =     65.5 : 1.0\n",
      "                    best = True              pos : neg    =     42.4 : 1.0\n",
      "                    bond = True              pos : neg    =     23.9 : 1.0\n",
      "                   gains = True              pos : neg    =     21.5 : 1.0\n",
      "                   piece = True              pos : neg    =     19.3 : 1.0\n",
      "                increase = True              pos : neg    =     16.7 : 1.0\n",
      "                 winning = True              pos : neg    =     16.7 : 1.0\n",
      "                     try = True              pos : neg    =     16.7 : 1.0\n",
      "                praising = True              pos : neg    =     14.1 : 1.0\n",
      "                security = True              pos : neg    =     14.1 : 1.0\n",
      "               long-term = True              pos : neg    =     14.1 : 1.0\n",
      "                    team = True              pos : neg    =     13.8 : 1.0\n",
      "                 despite = True              pos : neg    =     13.1 : 1.0\n",
      "                 article = True              pos : neg    =     13.1 : 1.0\n",
      "                    send = True              pos : neg    =     13.1 : 1.0\n",
      "                 success = True              pos : neg    =     12.4 : 1.0\n",
      "                     age = True              pos : neg    =     11.6 : 1.0\n",
      "                    dear = True              pos : neg    =     11.6 : 1.0\n",
      "                    unit = True              pos : neg    =     11.6 : 1.0\n",
      "                 citizen = True              pos : neg    =     11.6 : 1.0\n",
      "                     plz = True              pos : neg    =     11.6 : 1.0\n",
      "                  almost = True              pos : neg    =     11.6 : 1.0\n",
      "                   super = True              pos : neg    =     11.6 : 1.0\n",
      "                   share = True              pos : neg    =     11.6 : 1.0\n",
      "                banhttps = True              pos : neg    =     10.7 : 1.0\n",
      "                   funny = True              pos : neg    =     10.5 : 1.0\n",
      "              initiative = True              pos : neg    =     10.0 : 1.0\n",
      "                    able = True              pos : neg    =     10.0 : 1.0\n",
      "                   sorry = True              pos : neg    =     10.0 : 1.0\n",
      "         sudhirchaudhary = True              pos : neg    =      9.0 : 1.0\n"
     ]
    }
   ],
   "source": [
    "# i=1\n",
    "# for x in feature_set:\n",
    "#     print(x)\n",
    "#     print(\"\\n\\n\")\n",
    "#     if(i>5):\n",
    "#         break\n",
    "#     i=i+1\n",
    "random.shuffle(feature_set)\n",
    "print(len(feature_set))\n",
    "train_set = feature_set[:5000]\n",
    "test_set = feature_set[5000:]\n",
    "\n",
    "classifier = nltk.NaiveBayesClassifier.train(train_set)\n",
    "print(\"Naive Bayes Accuracy:\", (nltk.classify.accuracy(classifier, test_set)*100))\n",
    "classifier.show_most_informative_features(30)"
   ]
  },
  {
   "cell_type": "code",
   "execution_count": null,
   "metadata": {
    "collapsed": true
   },
   "outputs": [],
   "source": []
  },
  {
   "cell_type": "code",
   "execution_count": 26,
   "metadata": {
    "collapsed": false
   },
   "outputs": [
    {
     "data": {
      "text/plain": [
       "'neg'"
      ]
     },
     "execution_count": 26,
     "metadata": {},
     "output_type": "execute_result"
    }
   ],
   "source": [
    "classifier.classify({'welcomes':'false'})"
   ]
  },
  {
   "cell_type": "markdown",
   "metadata": {},
   "source": [
    "SCIKIT-LEARN INCORPORATION--"
   ]
  },
  {
   "cell_type": "code",
   "execution_count": 11,
   "metadata": {
    "collapsed": false
   },
   "outputs": [
    {
     "name": "stdout",
     "output_type": "stream",
     "text": [
      "MNB_classifier Accuracy: 87.15231788079471\n"
     ]
    }
   ],
   "source": [
    "from nltk.classify.scikitlearn import SklearnClassifier\n",
    "from sklearn.naive_bayes import MultinomialNB, GaussianNB, BernoulliNB\n",
    "from sklearn.linear_model import LogisticRegression, SGDClassifier\n",
    "from sklearn.svm import SVC,LinearSVC,NuSVC\n",
    "MNB_classifier = SklearnClassifier(MultinomialNB())\n",
    "MNB_classifier.train(train_set)\n",
    "print(\"MNB_classifier Accuracy:\", (nltk.classify.accuracy(MNB_classifier, test_set)*100))"
   ]
  },
  {
   "cell_type": "code",
   "execution_count": 12,
   "metadata": {
    "collapsed": false
   },
   "outputs": [
    {
     "name": "stdout",
     "output_type": "stream",
     "text": [
      "BernoulliNB_classifier Accuracy: 85.6953642384106\n"
     ]
    }
   ],
   "source": [
    "BernoulliNB_classifier = SklearnClassifier(BernoulliNB())\n",
    "BernoulliNB_classifier.train(train_set)\n",
    "print(\"BernoulliNB_classifier Accuracy:\", (nltk.classify.accuracy(BernoulliNB_classifier, test_set)*100))"
   ]
  },
  {
   "cell_type": "code",
   "execution_count": 13,
   "metadata": {
    "collapsed": false
   },
   "outputs": [
    {
     "name": "stdout",
     "output_type": "stream",
     "text": [
      "LogisticRegression classifier Accuracy: 86.6225165562914\n"
     ]
    }
   ],
   "source": [
    "LogisticRegression_classifier = SklearnClassifier(LogisticRegression())\n",
    "LogisticRegression_classifier.train(train_set)\n",
    "print(\"LogisticRegression classifier Accuracy:\", (nltk.classify.accuracy(LogisticRegression_classifier, test_set)*100))"
   ]
  },
  {
   "cell_type": "code",
   "execution_count": 14,
   "metadata": {
    "collapsed": false
   },
   "outputs": [
    {
     "name": "stdout",
     "output_type": "stream",
     "text": [
      "SGDClassifier classifier Accuracy: 85.2980132450331\n"
     ]
    }
   ],
   "source": [
    "SGDClassifier_classifier = SklearnClassifier(SGDClassifier())\n",
    "SGDClassifier_classifier.train(train_set)\n",
    "print(\"SGDClassifier classifier Accuracy:\", (nltk.classify.accuracy(SGDClassifier_classifier, test_set)*100))"
   ]
  },
  {
   "cell_type": "code",
   "execution_count": 15,
   "metadata": {
    "collapsed": false
   },
   "outputs": [
    {
     "name": "stdout",
     "output_type": "stream",
     "text": [
      "SVCClassifier classifier Accuracy: 80.39735099337749\n"
     ]
    }
   ],
   "source": [
    "SVC_classifier = SklearnClassifier(SVC())\n",
    "SVC_classifier.train(train_set)\n",
    "print(\"SVCClassifier classifier Accuracy:\", (nltk.classify.accuracy(SVC_classifier, test_set)*100))"
   ]
  },
  {
   "cell_type": "code",
   "execution_count": 16,
   "metadata": {
    "collapsed": false
   },
   "outputs": [
    {
     "name": "stdout",
     "output_type": "stream",
     "text": [
      "LinearSVC classifier Accuracy: 87.54966887417218\n"
     ]
    }
   ],
   "source": [
    "LinearSVC_classifier = SklearnClassifier(LinearSVC())\n",
    "LinearSVC_classifier.train(train_set)\n",
    "print(\"LinearSVC classifier Accuracy:\", (nltk.classify.accuracy(LinearSVC_classifier, test_set)*100))"
   ]
  },
  {
   "cell_type": "code",
   "execution_count": 10,
   "metadata": {
    "collapsed": false
   },
   "outputs": [
    {
     "name": "stdout",
     "output_type": "stream",
     "text": [
      "10664\n"
     ]
    }
   ],
   "source": [
    "print(len(feature_set))"
   ]
  },
  {
   "cell_type": "markdown",
   "metadata": {},
   "source": [
    "COMBINING ALGO WITH A VOTE TO SELECT THE BEST CLASSIFIER--"
   ]
  },
  {
   "cell_type": "code",
   "execution_count": 17,
   "metadata": {
    "collapsed": false
   },
   "outputs": [
    {
     "name": "stdout",
     "output_type": "stream",
     "text": [
      "Voted_Classifier Accuracy: 87.01986754966887\n"
     ]
    }
   ],
   "source": [
    "from nltk.classify import ClassifierI\n",
    "from statistics import mode\n",
    "class VoteClassifier(ClassifierI):\n",
    "    def __init__(self, *classifiers):\n",
    "        self._classifiers = classifiers\n",
    "        \n",
    "    def classify(self, features):\n",
    "        votes = []\n",
    "        for c in self._classifiers:\n",
    "            v = c.classify(features)\n",
    "            votes.append(v)\n",
    "        return mode(votes)\n",
    "    \n",
    "    def confidence(self, features):\n",
    "        votes = []\n",
    "        for c in self._classifiers:\n",
    "            v = c.classify(features)\n",
    "            votes.append(v)\n",
    "\n",
    "        choice_votes = votes.count(mode(votes))\n",
    "        conf = choice_votes / len(votes)\n",
    "        return conf\n",
    "\n",
    "voted_classifier = VoteClassifier(classifier,MNB_classifier,BernoulliNB_classifier,LogisticRegression_classifier,\n",
    "                                 SGDClassifier_classifier,SVC_classifier,LinearSVC_classifier)\n",
    "print(\"Voted_Classifier Accuracy:\", (nltk.classify.accuracy(voted_classifier, test_set))*100)"
   ]
  },
  {
   "cell_type": "markdown",
   "metadata": {
    "collapsed": true
   },
   "source": [
    "SAVING WITH PICKLE--"
   ]
  },
  {
   "cell_type": "code",
   "execution_count": 18,
   "metadata": {
    "collapsed": true
   },
   "outputs": [],
   "source": [
    "import pickle\n",
    "save_classifier=open(\"naivebayes.pickle\",\"wb\")\n",
    "pickle.dump(classifier,save_classifier)\n",
    "save_classifier.close()\n",
    "\n",
    "save_classifier=open(\"MNB_classifier.pickle\",\"wb\")\n",
    "pickle.dump(MNB_classifier,save_classifier)\n",
    "save_classifier.close()\n",
    "\n",
    "save_classifier=open(\"BernoulliNB_classifier.pickle\",\"wb\")\n",
    "pickle.dump(BernoulliNB_classifier,save_classifier)\n",
    "save_classifier.close()\n",
    "\n",
    "save_classifier=open(\"LogisticRegression_classifier.pickle\",\"wb\")\n",
    "pickle.dump(LogisticRegression_classifier,save_classifier)\n",
    "save_classifier.close()\n",
    "\n",
    "save_classifier=open(\"SGDClassifier_classifier.pickle\",\"wb\")\n",
    "pickle.dump(SGDClassifier_classifier,save_classifier)\n",
    "save_classifier.close()\n",
    "\n",
    "save_classifier=open(\"SVC_classifier.pickle\",\"wb\")\n",
    "pickle.dump(SVC_classifier,save_classifier)\n",
    "save_classifier.close()\n",
    "\n",
    "save_classifier=open(\"LinearSVC_classifier.pickle\",\"wb\")\n",
    "pickle.dump(LinearSVC_classifier,save_classifier)\n",
    "save_classifier.close()\n",
    "\n",
    "save_documents = open(\"documents.pickle\",\"wb\")\n",
    "pickle.dump(documents, save_documents)\n",
    "save_documents.close()\n",
    "\n",
    "save_word_features = open(\"word_features.pickle\",\"wb\")\n",
    "pickle.dump(word_features, save_word_features)\n",
    "save_word_features.close()\n",
    "\n",
    "save_features = open(\"feature_set.pickle\",\"wb\")\n",
    "pickle.dump(feature_set, save_features)\n",
    "save_features.close()"
   ]
  }
 ],
 "metadata": {
  "kernelspec": {
   "display_name": "Python 3",
   "language": "python",
   "name": "python3"
  },
  "language_info": {
   "codemirror_mode": {
    "name": "ipython",
    "version": 3
   },
   "file_extension": ".py",
   "mimetype": "text/x-python",
   "name": "python",
   "nbconvert_exporter": "python",
   "pygments_lexer": "ipython3",
   "version": "3.6.0"
  }
 },
 "nbformat": 4,
 "nbformat_minor": 2
}
