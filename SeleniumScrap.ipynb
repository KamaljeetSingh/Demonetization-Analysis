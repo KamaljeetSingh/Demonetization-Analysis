{
 "cells": [
  {
   "cell_type": "code",
   "execution_count": 5,
   "metadata": {
    "collapsed": false
   },
   "outputs": [],
   "source": [
    "from selenium import webdriver\n",
    "import time\n",
    "driver=webdriver.Chrome(\"C:\\\\Users\\\\mohinder\\\\Anaconda3\\\\selenium\\\\webdriver\\\\chrome\\\\chromedriver.exe\")\n",
    "driver.set_page_load_timeout(30)\n",
    "driver.get(\"https://twitter.com/search?q=demonetization%20demonetisation%20until%3A2017-01-31&f=realtime\")\n",
    "driver.implicitly_wait(20)\n",
    "# driver.find_element_by_id('email').send_keys('abn2k10@gmail.com')\n",
    "# driver.find_element_by_id('pass').send_keys('pass')\n",
    "# driver.find_elements_by_id('stream-item-tweet-840479991188066304').click()\n",
    "# e = driver.find_element_by_css_selector('.TweetTextSize.js-tweet-text.tweet-text')\n",
    "# for elem in driver.find_elements_by_css_selector('p.TweetTextSize.js-tweet-text.tweet-text'):\n",
    "#     print(elem.text)\n",
    "#\n",
    "# lastHeight = driver.execute_script(\"return document.body.scrollHeight\")\n",
    "# while True:\n",
    "#     driver.execute_script(\"window.scrollTo(0, document.body.scrollHeight);\")\n",
    "#     time.sleep(3)\n",
    "#     newHeight = driver.execute_script(\"return document.body.scrollHeight\")\n",
    "#     if(driver.find_element_by_css_selector('span._timestamp.js-short-timestamp').text == '19 Nov 2016'):\n",
    "#         break\n",
    "#     if newHeight == lastHeight:\n",
    "#         break\n",
    "#     lastHeight = newHeight\n",
    "for x in range(1,5):\n",
    "    driver.execute_script(\"window.scrollTo(0, document.body.scrollHeight);\")\n",
    "    time.sleep(3)\n",
    "f = open(\"demo_jan20-30.txt\",\"w\",encoding='utf-8')\n",
    "for elem in driver.find_elements_by_css_selector('p.TweetTextSize.js-tweet-text.tweet-text'):\n",
    "    txt = elem.text.split('\\n')\n",
    "    pretty_x=\"\"\n",
    "    for x in txt: \n",
    "        pretty_x = pretty_x + x + \" \"\n",
    "    f.write(pretty_x + \"\\n\")\n",
    "\n",
    "f.close()\n",
    "    \n"
   ]
  }
 ],
 "metadata": {
  "kernelspec": {
   "display_name": "Python 3",
   "language": "python",
   "name": "python3"
  },
  "language_info": {
   "codemirror_mode": {
    "name": "ipython",
    "version": 3
   },
   "file_extension": ".py",
   "mimetype": "text/x-python",
   "name": "python",
   "nbconvert_exporter": "python",
   "pygments_lexer": "ipython3",
   "version": "3.6.0"
  }
 },
 "nbformat": 4,
 "nbformat_minor": 2
}
