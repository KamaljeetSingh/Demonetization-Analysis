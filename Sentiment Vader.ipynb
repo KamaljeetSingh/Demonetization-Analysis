{
 "cells": [
  {
   "cell_type": "code",
   "execution_count": 3,
   "metadata": {
    "collapsed": false
   },
   "outputs": [
    {
     "name": "stdout",
     "output_type": "stream",
     "text": [
      "showing info https://raw.githubusercontent.com/nltk/nltk_data/gh-pages/index.xml\n"
     ]
    },
    {
     "data": {
      "text/plain": [
       "True"
      ]
     },
     "execution_count": 3,
     "metadata": {},
     "output_type": "execute_result"
    }
   ],
   "source": [
    "import nltk\n",
    "nltk.download()"
   ]
  },
  {
   "cell_type": "code",
   "execution_count": 9,
   "metadata": {
    "collapsed": false
   },
   "outputs": [],
   "source": [
    "from nltk.sentiment.vader import SentimentIntensityAnalyzer\n",
    "from nltk.sentiment.util import *\n",
    "f=open(\"demo_jan20-30.txt\",\"r\",encoding=\"utf-8\")\n",
    "f_pos=open(\"pos_dem.txt\",\"a\",encoding=\"utf-8\")\n",
    "f_neg=open(\"neg_dem.txt\",\"a\",encoding=\"utf-8\")\n",
    "# sentences.split('\\n')\n",
    "# f = [\"good movie\",\"bad movie\", \"better than others\"]\n",
    "sid = SentimentIntensityAnalyzer()\n",
    "for sentence in f:\n",
    "#     print(sentence)\n",
    "    ss = sid.polarity_scores(sentence)\n",
    "    if(ss['compound']>0):\n",
    "        f_pos.write(sentence)\n",
    "    elif(ss['compound']<0):\n",
    "        f_neg.write(sentence)\n",
    "#     for k in sorted(ss):\n",
    "#         print(k,ss[k])\n",
    "f.close()\n",
    "f_pos.close()\n",
    "f_neg.close()\n",
    "# sid=SentimentIntensityAnalyzer()\n",
    "# ss=sid.polarity_scores(\"Rs    lakh looted from a bank in Kishtwar in J amp K  Third such incident since  demonetization  That s how terrorists have\")\n",
    "# for k in sorted(ss):\n",
    "#     print(ss[\"compound\"])"
   ]
  }
 ],
 "metadata": {
  "kernelspec": {
   "display_name": "Python 3",
   "language": "python",
   "name": "python3"
  },
  "language_info": {
   "codemirror_mode": {
    "name": "ipython",
    "version": 3
   },
   "file_extension": ".py",
   "mimetype": "text/x-python",
   "name": "python",
   "nbconvert_exporter": "python",
   "pygments_lexer": "ipython3",
   "version": "3.6.0"
  }
 },
 "nbformat": 4,
 "nbformat_minor": 2
}
